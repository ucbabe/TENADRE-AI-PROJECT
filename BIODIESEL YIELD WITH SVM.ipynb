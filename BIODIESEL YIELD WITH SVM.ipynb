{
 "cells": [
  {
   "cell_type": "code",
   "execution_count": 1,
   "id": "c325411f",
   "metadata": {},
   "outputs": [],
   "source": [
    "#importing the required libraries\n",
    "import pandas as pd\n",
    "import matplotlib.pyplot as plt\n",
    "import seaborn as sns \n",
    "import sklearn\n",
    "from sklearn.model_selection import train_test_split\n"
   ]
  },
  {
   "cell_type": "code",
   "execution_count": 2,
   "id": "d8032252",
   "metadata": {},
   "outputs": [],
   "source": [
    "#The dataset was read\n",
    "data=pd.read_csv(\"biodiesel yield.txt\",sep='\\t', header=None, names=[\"Temperature [°C]\",\"Pressure [Mpa]\",\"Reaction Time [min]\",\"Methanol/Oil\",\"Experimented Yield [-]\"])"
   ]
  },
  {
   "cell_type": "code",
   "execution_count": 3,
   "id": "edd5dece",
   "metadata": {},
   "outputs": [
    {
     "data": {
      "text/html": [
       "<div>\n",
       "<style scoped>\n",
       "    .dataframe tbody tr th:only-of-type {\n",
       "        vertical-align: middle;\n",
       "    }\n",
       "\n",
       "    .dataframe tbody tr th {\n",
       "        vertical-align: top;\n",
       "    }\n",
       "\n",
       "    .dataframe thead th {\n",
       "        text-align: right;\n",
       "    }\n",
       "</style>\n",
       "<table border=\"1\" class=\"dataframe\">\n",
       "  <thead>\n",
       "    <tr style=\"text-align: right;\">\n",
       "      <th></th>\n",
       "      <th>Temperature [°C]</th>\n",
       "      <th>Pressure [Mpa]</th>\n",
       "      <th>Reaction Time [min]</th>\n",
       "      <th>Methanol/Oil</th>\n",
       "      <th>Experimented Yield [-]</th>\n",
       "    </tr>\n",
       "  </thead>\n",
       "  <tbody>\n",
       "    <tr>\n",
       "      <th>0</th>\n",
       "      <td>270</td>\n",
       "      <td>20</td>\n",
       "      <td>3</td>\n",
       "      <td>40</td>\n",
       "      <td>0.0909</td>\n",
       "    </tr>\n",
       "    <tr>\n",
       "      <th>1</th>\n",
       "      <td>270</td>\n",
       "      <td>20</td>\n",
       "      <td>5</td>\n",
       "      <td>40</td>\n",
       "      <td>0.1985</td>\n",
       "    </tr>\n",
       "    <tr>\n",
       "      <th>2</th>\n",
       "      <td>270</td>\n",
       "      <td>20</td>\n",
       "      <td>10</td>\n",
       "      <td>40</td>\n",
       "      <td>0.4127</td>\n",
       "    </tr>\n",
       "    <tr>\n",
       "      <th>3</th>\n",
       "      <td>270</td>\n",
       "      <td>20</td>\n",
       "      <td>15</td>\n",
       "      <td>40</td>\n",
       "      <td>0.5885</td>\n",
       "    </tr>\n",
       "    <tr>\n",
       "      <th>4</th>\n",
       "      <td>270</td>\n",
       "      <td>20</td>\n",
       "      <td>20</td>\n",
       "      <td>40</td>\n",
       "      <td>0.7424</td>\n",
       "    </tr>\n",
       "    <tr>\n",
       "      <th>5</th>\n",
       "      <td>270</td>\n",
       "      <td>20</td>\n",
       "      <td>25</td>\n",
       "      <td>40</td>\n",
       "      <td>0.8289</td>\n",
       "    </tr>\n",
       "    <tr>\n",
       "      <th>6</th>\n",
       "      <td>270</td>\n",
       "      <td>20</td>\n",
       "      <td>30</td>\n",
       "      <td>40</td>\n",
       "      <td>0.9250</td>\n",
       "    </tr>\n",
       "    <tr>\n",
       "      <th>7</th>\n",
       "      <td>300</td>\n",
       "      <td>20</td>\n",
       "      <td>3</td>\n",
       "      <td>40</td>\n",
       "      <td>0.2337</td>\n",
       "    </tr>\n",
       "    <tr>\n",
       "      <th>8</th>\n",
       "      <td>300</td>\n",
       "      <td>20</td>\n",
       "      <td>5</td>\n",
       "      <td>40</td>\n",
       "      <td>0.4291</td>\n",
       "    </tr>\n",
       "    <tr>\n",
       "      <th>9</th>\n",
       "      <td>300</td>\n",
       "      <td>20</td>\n",
       "      <td>10</td>\n",
       "      <td>40</td>\n",
       "      <td>0.8235</td>\n",
       "    </tr>\n",
       "    <tr>\n",
       "      <th>10</th>\n",
       "      <td>300</td>\n",
       "      <td>20</td>\n",
       "      <td>15</td>\n",
       "      <td>40</td>\n",
       "      <td>1.0000</td>\n",
       "    </tr>\n",
       "    <tr>\n",
       "      <th>11</th>\n",
       "      <td>300</td>\n",
       "      <td>20</td>\n",
       "      <td>20</td>\n",
       "      <td>40</td>\n",
       "      <td>1.0000</td>\n",
       "    </tr>\n",
       "    <tr>\n",
       "      <th>12</th>\n",
       "      <td>300</td>\n",
       "      <td>20</td>\n",
       "      <td>25</td>\n",
       "      <td>40</td>\n",
       "      <td>1.0000</td>\n",
       "    </tr>\n",
       "    <tr>\n",
       "      <th>13</th>\n",
       "      <td>300</td>\n",
       "      <td>20</td>\n",
       "      <td>30</td>\n",
       "      <td>40</td>\n",
       "      <td>1.0000</td>\n",
       "    </tr>\n",
       "    <tr>\n",
       "      <th>14</th>\n",
       "      <td>350</td>\n",
       "      <td>20</td>\n",
       "      <td>3</td>\n",
       "      <td>40</td>\n",
       "      <td>0.6833</td>\n",
       "    </tr>\n",
       "    <tr>\n",
       "      <th>15</th>\n",
       "      <td>350</td>\n",
       "      <td>20</td>\n",
       "      <td>5</td>\n",
       "      <td>40</td>\n",
       "      <td>0.8839</td>\n",
       "    </tr>\n",
       "    <tr>\n",
       "      <th>16</th>\n",
       "      <td>350</td>\n",
       "      <td>20</td>\n",
       "      <td>10</td>\n",
       "      <td>40</td>\n",
       "      <td>1.0000</td>\n",
       "    </tr>\n",
       "    <tr>\n",
       "      <th>17</th>\n",
       "      <td>350</td>\n",
       "      <td>20</td>\n",
       "      <td>15</td>\n",
       "      <td>40</td>\n",
       "      <td>0.9712</td>\n",
       "    </tr>\n",
       "    <tr>\n",
       "      <th>18</th>\n",
       "      <td>350</td>\n",
       "      <td>20</td>\n",
       "      <td>20</td>\n",
       "      <td>40</td>\n",
       "      <td>1.0000</td>\n",
       "    </tr>\n",
       "    <tr>\n",
       "      <th>19</th>\n",
       "      <td>350</td>\n",
       "      <td>20</td>\n",
       "      <td>25</td>\n",
       "      <td>40</td>\n",
       "      <td>1.0000</td>\n",
       "    </tr>\n",
       "    <tr>\n",
       "      <th>20</th>\n",
       "      <td>350</td>\n",
       "      <td>20</td>\n",
       "      <td>30</td>\n",
       "      <td>40</td>\n",
       "      <td>0.9749</td>\n",
       "    </tr>\n",
       "    <tr>\n",
       "      <th>21</th>\n",
       "      <td>400</td>\n",
       "      <td>20</td>\n",
       "      <td>3</td>\n",
       "      <td>40</td>\n",
       "      <td>1.0000</td>\n",
       "    </tr>\n",
       "    <tr>\n",
       "      <th>22</th>\n",
       "      <td>400</td>\n",
       "      <td>20</td>\n",
       "      <td>5</td>\n",
       "      <td>40</td>\n",
       "      <td>1.0000</td>\n",
       "    </tr>\n",
       "    <tr>\n",
       "      <th>23</th>\n",
       "      <td>400</td>\n",
       "      <td>20</td>\n",
       "      <td>10</td>\n",
       "      <td>40</td>\n",
       "      <td>1.0000</td>\n",
       "    </tr>\n",
       "    <tr>\n",
       "      <th>24</th>\n",
       "      <td>400</td>\n",
       "      <td>20</td>\n",
       "      <td>15</td>\n",
       "      <td>40</td>\n",
       "      <td>1.0000</td>\n",
       "    </tr>\n",
       "    <tr>\n",
       "      <th>25</th>\n",
       "      <td>400</td>\n",
       "      <td>20</td>\n",
       "      <td>20</td>\n",
       "      <td>40</td>\n",
       "      <td>1.0000</td>\n",
       "    </tr>\n",
       "    <tr>\n",
       "      <th>26</th>\n",
       "      <td>400</td>\n",
       "      <td>20</td>\n",
       "      <td>25</td>\n",
       "      <td>40</td>\n",
       "      <td>1.0000</td>\n",
       "    </tr>\n",
       "    <tr>\n",
       "      <th>27</th>\n",
       "      <td>400</td>\n",
       "      <td>20</td>\n",
       "      <td>30</td>\n",
       "      <td>40</td>\n",
       "      <td>1.0000</td>\n",
       "    </tr>\n",
       "    <tr>\n",
       "      <th>28</th>\n",
       "      <td>325</td>\n",
       "      <td>10</td>\n",
       "      <td>3</td>\n",
       "      <td>20</td>\n",
       "      <td>0.0541</td>\n",
       "    </tr>\n",
       "    <tr>\n",
       "      <th>29</th>\n",
       "      <td>325</td>\n",
       "      <td>10</td>\n",
       "      <td>5</td>\n",
       "      <td>20</td>\n",
       "      <td>0.1036</td>\n",
       "    </tr>\n",
       "    <tr>\n",
       "      <th>30</th>\n",
       "      <td>325</td>\n",
       "      <td>10</td>\n",
       "      <td>10</td>\n",
       "      <td>20</td>\n",
       "      <td>0.2409</td>\n",
       "    </tr>\n",
       "    <tr>\n",
       "      <th>31</th>\n",
       "      <td>325</td>\n",
       "      <td>10</td>\n",
       "      <td>15</td>\n",
       "      <td>20</td>\n",
       "      <td>0.4105</td>\n",
       "    </tr>\n",
       "    <tr>\n",
       "      <th>32</th>\n",
       "      <td>325</td>\n",
       "      <td>10</td>\n",
       "      <td>20</td>\n",
       "      <td>20</td>\n",
       "      <td>0.5009</td>\n",
       "    </tr>\n",
       "    <tr>\n",
       "      <th>33</th>\n",
       "      <td>325</td>\n",
       "      <td>10</td>\n",
       "      <td>25</td>\n",
       "      <td>20</td>\n",
       "      <td>0.6108</td>\n",
       "    </tr>\n",
       "    <tr>\n",
       "      <th>34</th>\n",
       "      <td>325</td>\n",
       "      <td>10</td>\n",
       "      <td>30</td>\n",
       "      <td>20</td>\n",
       "      <td>0.7409</td>\n",
       "    </tr>\n",
       "    <tr>\n",
       "      <th>35</th>\n",
       "      <td>325</td>\n",
       "      <td>20</td>\n",
       "      <td>3</td>\n",
       "      <td>20</td>\n",
       "      <td>0.1030</td>\n",
       "    </tr>\n",
       "    <tr>\n",
       "      <th>36</th>\n",
       "      <td>325</td>\n",
       "      <td>20</td>\n",
       "      <td>5</td>\n",
       "      <td>20</td>\n",
       "      <td>0.2514</td>\n",
       "    </tr>\n",
       "    <tr>\n",
       "      <th>37</th>\n",
       "      <td>325</td>\n",
       "      <td>20</td>\n",
       "      <td>10</td>\n",
       "      <td>20</td>\n",
       "      <td>0.3710</td>\n",
       "    </tr>\n",
       "    <tr>\n",
       "      <th>38</th>\n",
       "      <td>325</td>\n",
       "      <td>20</td>\n",
       "      <td>15</td>\n",
       "      <td>20</td>\n",
       "      <td>0.4992</td>\n",
       "    </tr>\n",
       "    <tr>\n",
       "      <th>39</th>\n",
       "      <td>325</td>\n",
       "      <td>20</td>\n",
       "      <td>20</td>\n",
       "      <td>20</td>\n",
       "      <td>0.6015</td>\n",
       "    </tr>\n",
       "    <tr>\n",
       "      <th>40</th>\n",
       "      <td>325</td>\n",
       "      <td>20</td>\n",
       "      <td>25</td>\n",
       "      <td>20</td>\n",
       "      <td>0.7311</td>\n",
       "    </tr>\n",
       "    <tr>\n",
       "      <th>41</th>\n",
       "      <td>325</td>\n",
       "      <td>20</td>\n",
       "      <td>30</td>\n",
       "      <td>20</td>\n",
       "      <td>0.7915</td>\n",
       "    </tr>\n",
       "  </tbody>\n",
       "</table>\n",
       "</div>"
      ],
      "text/plain": [
       "    Temperature [°C]  Pressure [Mpa]  Reaction Time [min]  Methanol/Oil  \\\n",
       "0                270              20                    3            40   \n",
       "1                270              20                    5            40   \n",
       "2                270              20                   10            40   \n",
       "3                270              20                   15            40   \n",
       "4                270              20                   20            40   \n",
       "5                270              20                   25            40   \n",
       "6                270              20                   30            40   \n",
       "7                300              20                    3            40   \n",
       "8                300              20                    5            40   \n",
       "9                300              20                   10            40   \n",
       "10               300              20                   15            40   \n",
       "11               300              20                   20            40   \n",
       "12               300              20                   25            40   \n",
       "13               300              20                   30            40   \n",
       "14               350              20                    3            40   \n",
       "15               350              20                    5            40   \n",
       "16               350              20                   10            40   \n",
       "17               350              20                   15            40   \n",
       "18               350              20                   20            40   \n",
       "19               350              20                   25            40   \n",
       "20               350              20                   30            40   \n",
       "21               400              20                    3            40   \n",
       "22               400              20                    5            40   \n",
       "23               400              20                   10            40   \n",
       "24               400              20                   15            40   \n",
       "25               400              20                   20            40   \n",
       "26               400              20                   25            40   \n",
       "27               400              20                   30            40   \n",
       "28               325              10                    3            20   \n",
       "29               325              10                    5            20   \n",
       "30               325              10                   10            20   \n",
       "31               325              10                   15            20   \n",
       "32               325              10                   20            20   \n",
       "33               325              10                   25            20   \n",
       "34               325              10                   30            20   \n",
       "35               325              20                    3            20   \n",
       "36               325              20                    5            20   \n",
       "37               325              20                   10            20   \n",
       "38               325              20                   15            20   \n",
       "39               325              20                   20            20   \n",
       "40               325              20                   25            20   \n",
       "41               325              20                   30            20   \n",
       "\n",
       "    Experimented Yield [-]  \n",
       "0                   0.0909  \n",
       "1                   0.1985  \n",
       "2                   0.4127  \n",
       "3                   0.5885  \n",
       "4                   0.7424  \n",
       "5                   0.8289  \n",
       "6                   0.9250  \n",
       "7                   0.2337  \n",
       "8                   0.4291  \n",
       "9                   0.8235  \n",
       "10                  1.0000  \n",
       "11                  1.0000  \n",
       "12                  1.0000  \n",
       "13                  1.0000  \n",
       "14                  0.6833  \n",
       "15                  0.8839  \n",
       "16                  1.0000  \n",
       "17                  0.9712  \n",
       "18                  1.0000  \n",
       "19                  1.0000  \n",
       "20                  0.9749  \n",
       "21                  1.0000  \n",
       "22                  1.0000  \n",
       "23                  1.0000  \n",
       "24                  1.0000  \n",
       "25                  1.0000  \n",
       "26                  1.0000  \n",
       "27                  1.0000  \n",
       "28                  0.0541  \n",
       "29                  0.1036  \n",
       "30                  0.2409  \n",
       "31                  0.4105  \n",
       "32                  0.5009  \n",
       "33                  0.6108  \n",
       "34                  0.7409  \n",
       "35                  0.1030  \n",
       "36                  0.2514  \n",
       "37                  0.3710  \n",
       "38                  0.4992  \n",
       "39                  0.6015  \n",
       "40                  0.7311  \n",
       "41                  0.7915  "
      ]
     },
     "execution_count": 3,
     "metadata": {},
     "output_type": "execute_result"
    }
   ],
   "source": [
    "data"
   ]
  },
  {
   "cell_type": "code",
   "execution_count": 4,
   "id": "06d24e71",
   "metadata": {},
   "outputs": [
    {
     "data": {
      "text/plain": [
       "(42, 5)"
      ]
     },
     "execution_count": 4,
     "metadata": {},
     "output_type": "execute_result"
    }
   ],
   "source": [
    "data.shape"
   ]
  },
  {
   "cell_type": "code",
   "execution_count": 5,
   "id": "ccdc4f7e",
   "metadata": {},
   "outputs": [
    {
     "name": "stdout",
     "output_type": "stream",
     "text": [
      "<class 'pandas.core.frame.DataFrame'>\n",
      "RangeIndex: 42 entries, 0 to 41\n",
      "Data columns (total 5 columns):\n",
      " #   Column                  Non-Null Count  Dtype  \n",
      "---  ------                  --------------  -----  \n",
      " 0   Temperature [°C]        42 non-null     int64  \n",
      " 1   Pressure [Mpa]          42 non-null     int64  \n",
      " 2   Reaction Time [min]     42 non-null     int64  \n",
      " 3   Methanol/Oil            42 non-null     int64  \n",
      " 4   Experimented Yield [-]  42 non-null     float64\n",
      "dtypes: float64(1), int64(4)\n",
      "memory usage: 1.8 KB\n"
     ]
    }
   ],
   "source": [
    "data.info()"
   ]
  },
  {
   "cell_type": "code",
   "execution_count": 6,
   "id": "ab35568d",
   "metadata": {},
   "outputs": [],
   "source": [
    "y=data[\"Experimented Yield [-]\"]\n",
    "X=data.drop(\"Experimented Yield [-]\",axis=1)\n",
    "#the features and the target variable were defined"
   ]
  },
  {
   "cell_type": "code",
   "execution_count": 7,
   "id": "4fa9d624",
   "metadata": {},
   "outputs": [],
   "source": [
    "#the dataset was split in a 75 to 25 percent ratio with 75 being the training set and 25 being the testing set\n",
    "X_train,X_test,y_train,y_test=train_test_split(X,y,test_size=0.25,random_state=0)"
   ]
  },
  {
   "cell_type": "code",
   "execution_count": 8,
   "id": "ff3f08e5",
   "metadata": {},
   "outputs": [],
   "source": [
    "from sklearn.svm import SVR\n",
    "#svr model for regression was imported from svm"
   ]
  },
  {
   "cell_type": "code",
   "execution_count": 9,
   "id": "6b6a92bf",
   "metadata": {},
   "outputs": [],
   "source": [
    "svr_model=SVR()\n",
    "#the model was called"
   ]
  },
  {
   "cell_type": "code",
   "execution_count": 10,
   "id": "6f895b0e",
   "metadata": {},
   "outputs": [
    {
     "data": {
      "text/plain": [
       "SVR()"
      ]
     },
     "execution_count": 10,
     "metadata": {},
     "output_type": "execute_result"
    }
   ],
   "source": [
    "svr_model.fit(X_train,y_train)\n",
    "#the model was then fit into the training set"
   ]
  },
  {
   "cell_type": "code",
   "execution_count": 11,
   "id": "4558825b",
   "metadata": {},
   "outputs": [
    {
     "data": {
      "text/plain": [
       "array([0.662449  , 0.65122787, 1.03066806, 0.55310562, 0.63990248,\n",
       "       1.00179961, 0.63912451, 0.65695021, 0.66794065, 0.67918694,\n",
       "       0.64577108])"
      ]
     },
     "execution_count": 11,
     "metadata": {},
     "output_type": "execute_result"
    }
   ],
   "source": [
    "y_predict=svr_model.predict(X_test)\n",
    "y_predict\n",
    "#predictions were carried out"
   ]
  },
  {
   "cell_type": "code",
   "execution_count": 12,
   "id": "776361d0",
   "metadata": {},
   "outputs": [
    {
     "name": "stdout",
     "output_type": "stream",
     "text": [
      "r2 score: 0.07121920806509185\n"
     ]
    }
   ],
   "source": [
    "from sklearn.metrics import r2_score\n",
    "print(\"r2 score:\",r2_score(y_test,y_predict))\n",
    "#r2 score was imported and used to check the model's strength"
   ]
  },
  {
   "cell_type": "code",
   "execution_count": 13,
   "id": "6dd7359e",
   "metadata": {},
   "outputs": [
    {
     "name": "stdout",
     "output_type": "stream",
     "text": [
      "MSE: 0.12893317943902916\n"
     ]
    }
   ],
   "source": [
    "from sklearn.metrics import mean_squared_error\n",
    "MSE=mean_squared_error(y_test,y_predict)\n",
    "print(\"MSE:\",MSE)\n",
    "#mean_squared_error was also imported and used to check the model's strength"
   ]
  },
  {
   "cell_type": "code",
   "execution_count": 14,
   "id": "01bb0290",
   "metadata": {},
   "outputs": [],
   "source": [
    "from sklearn.ensemble import RandomForestRegressor\n",
    "#Random Forest Regressor was imported and used to fit the data"
   ]
  },
  {
   "cell_type": "code",
   "execution_count": 15,
   "id": "d5668f1b",
   "metadata": {},
   "outputs": [],
   "source": [
    "rf_model=RandomForestRegressor()"
   ]
  },
  {
   "cell_type": "code",
   "execution_count": 16,
   "id": "4ee27936",
   "metadata": {},
   "outputs": [
    {
     "data": {
      "text/plain": [
       "RandomForestRegressor()"
      ]
     },
     "execution_count": 16,
     "metadata": {},
     "output_type": "execute_result"
    }
   ],
   "source": [
    "rf_model.fit(X_train,y_train)\n"
   ]
  },
  {
   "cell_type": "code",
   "execution_count": 17,
   "id": "b8807ada",
   "metadata": {},
   "outputs": [
    {
     "data": {
      "text/plain": [
       "array([0.5322  , 0.339152, 0.987701, 0.595029, 0.688979, 0.99856 ,\n",
       "       0.159255, 0.739447, 0.555968, 0.513429, 0.337858])"
      ]
     },
     "execution_count": 17,
     "metadata": {},
     "output_type": "execute_result"
    }
   ],
   "source": [
    "y_pred=rf_model.predict(X_test)\n",
    "y_pred\n",
    "#predictions were carried out"
   ]
  },
  {
   "cell_type": "code",
   "execution_count": 18,
   "id": "305c5ea1",
   "metadata": {},
   "outputs": [
    {
     "name": "stdout",
     "output_type": "stream",
     "text": [
      "r2 score: 0.7447367936966567\n"
     ]
    }
   ],
   "source": [
    "print(\"r2 score:\",r2_score(y_test,y_pred))\n",
    "#r2 score was imported and used to check the model's strength"
   ]
  },
  {
   "cell_type": "code",
   "execution_count": 19,
   "id": "c6fb5611",
   "metadata": {},
   "outputs": [
    {
     "name": "stdout",
     "output_type": "stream",
     "text": [
      "MSE: 0.03543559154999995\n"
     ]
    }
   ],
   "source": [
    "MSE=mean_squared_error(y_test,y_pred)\n",
    "print(\"MSE:\",MSE)\n",
    "#mean_squared_error was also imported and used to check the model's strength"
   ]
  },
  {
   "cell_type": "markdown",
   "id": "ac81a1ca",
   "metadata": {},
   "source": [
    "It can be seen that the random forest model performed better than the SVM because the mean squared error of the former is smaller than the latter and the smaller the MSE, the better the model.\n",
    "         Although the svm model still did a pretty good job."
   ]
  },
  {
   "cell_type": "code",
   "execution_count": null,
   "id": "65819c4f",
   "metadata": {},
   "outputs": [],
   "source": []
  }
 ],
 "metadata": {
  "kernelspec": {
   "display_name": "Python 3 (ipykernel)",
   "language": "python",
   "name": "python3"
  },
  "language_info": {
   "codemirror_mode": {
    "name": "ipython",
    "version": 3
   },
   "file_extension": ".py",
   "mimetype": "text/x-python",
   "name": "python",
   "nbconvert_exporter": "python",
   "pygments_lexer": "ipython3",
   "version": "3.9.7"
  }
 },
 "nbformat": 4,
 "nbformat_minor": 5
}
